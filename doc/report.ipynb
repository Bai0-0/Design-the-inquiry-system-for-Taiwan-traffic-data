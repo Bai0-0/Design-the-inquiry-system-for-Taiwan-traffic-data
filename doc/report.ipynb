{
 "cells": [
  {
   "cell_type": "markdown",
   "metadata": {},
   "source": [
    "# Inquiry System for Taiwan Traffic Data\n",
    "\n",
    "**Authors:**\n",
    "\n",
    "WANG Zihan, 20801541\n",
    "\n",
    "## 1. UML and Design Patterns\n",
    "### 1.1 UML Class Diagram"
   ]
  },
  {
   "cell_type": "markdown",
   "metadata": {},
   "source": [
    "<center><img src=\"report_pic/1.1 UML.png\" width=\"600\">"
   ]
  },
  {
   "cell_type": "markdown",
   "metadata": {},
   "source": [
    "### 1.2 Class Explanation\n",
    "\n",
    "We explain our class design here. Note that the classes shown in this section have ONLY the framework and the necessary code. The detailed codes are in the appendix.\n",
    "\n",
    "#### System Class"
   ]
  },
  {
   "cell_type": "code",
   "execution_count": null,
   "metadata": {},
   "outputs": [],
   "source": [
    "class System:\n",
    "\n",
    "    def __init__(self) -> None:\n",
    "        ...\n",
    "        self.userbase = UserBase(lib_path)\n",
    "        self.database = DataBase(data_path)\n",
    "\n",
    "        self.user_interface = UI(self)\n",
    "        self.user_interface.run()\n",
    "\n",
    "        self.userbase.save_to_local()\n",
    "        self.database.save_to_local()\n",
    "\n",
    "    @staticmethod\n",
    "    def generate_folder(path: str) -> None:\n",
    "        ..."
   ]
  },
  {
   "cell_type": "markdown",
   "metadata": {},
   "source": [
    "The System class serves as the main function of this program. It contains a constructor and a member function \"generate_folder\". \n",
    "\n",
    "- The constructor is the process of our program. It first initializes three objects of UserBase (stores user info),     DataBase (stores data) and UI (initialized by passing the current System object, so that the UI can access the userbase and the database). Then, the UI runs to accept input and return output. Finally, when the UI program exits, the userbase and the database save themselves to local library, to memorize the log-in info and the sheet info.\n",
    "\n",
    "- The \"generate_folder\" function generates a |directory if it not exists.\n",
    "\n",
    "#### UserBase Class"
   ]
  },
  {
   "cell_type": "code",
   "execution_count": null,
   "metadata": {},
   "outputs": [],
   "source": [
    "class UserBase:\n",
    "    \n",
    "    def __init__(self, lib_path) -> None:\n",
    "        self.user_file_path = os.path.join(lib_path, 'account_info.csv')\n",
    "        if os.path.exists(self.user_file_path):\n",
    "            self.__account_info = pd.read_csv(self.user_file_path, index_col=0)\n",
    "            self.__account_info = self.__account_info.astype(str)\n",
    "            self.__account_info.reset_index(drop=True, inplace=True)\n",
    "        else:\n",
    "            self.__account_info = pd.DataFrame(columns=['uid', 'password'])\n",
    "    \n",
    "    def sign_up(self, uid: str, pw: str) -> tuple:\n",
    "        ...\n",
    "    def sign_in(self, uid: str, pw: str) -> tuple:\n",
    "        ...\n",
    "    def save_to_local(self):\n",
    "        ..."
   ]
  },
  {
   "cell_type": "markdown",
   "metadata": {},
   "source": [
    "The UserBase class is used to handle the sign-in, sign-up and the user info storage problems. We use a DataFrame called the account_info to store the user info.\n",
    "\n",
    "- The constructor loads the local user file info if any.\n",
    "- The \"sign-up\" function adds user info into the account_info attribute.\n",
    "- The \"sign-in\" function checks the user info with the account_info attribute.\n",
    "- The \"save_to_local\" function saves the account_info attribute to local.\n",
    "\n",
    "#### DataBase Class"
   ]
  },
  {
   "cell_type": "code",
   "execution_count": null,
   "metadata": {},
   "outputs": [],
   "source": [
    "class DataBase:\n",
    "    def __init__(self, data_path) -> None:\n",
    "        self.__data_list = {}\n",
    "        self.__data_path = data_path\n",
    "        file_list = os.listdir(self.__data_path)\n",
    "        file_list = [f for f in file_list if f != '.DS_Store']\n",
    "        if len(file_list) > 0:\n",
    "            for f in file_list:\n",
    "                self.add(os.path.join(self.__data_path, f), f.rstrip('.csv'))\n",
    "    \n",
    "    def add(self, data_path: str, sheet_name: str):\n",
    "        ...\n",
    "    def access(self, sheet_name: str) -> Data:\n",
    "        ...\n",
    "    def delete(self, sheet_name: str):\n",
    "        ...\n",
    "    def save_to_local(self):\n",
    "        ...\n",
    "    def show_content(self):\n",
    "        ...\n",
    "    @staticmethod\n",
    "    def generate_folder(path: str) -> None:\n",
    "        ..."
   ]
  },
  {
   "cell_type": "markdown",
   "metadata": {},
   "source": [
    "The DataBase class is used to store and manage the data sheets added by users. We use a dictionary called \"data_list\" to store the (sheet_name, Data) pair.\n",
    "\n",
    "- The constructor loads the local data sheet file info if any.\n",
    "- The \"add\" function adds a data sheet into the database.\n",
    "- The \"access\" function accesses a data sheet in the database.\n",
    "- The \"delete\" function deletes a data sheet from the database.\n",
    "- The \"save_to_local\" function saves all sheets in the database to local library.\n",
    "- The \"show_content\" function inquires all sheet names inside the database.\n",
    "\n",
    "#### Data Class"
   ]
  },
  {
   "cell_type": "code",
   "execution_count": null,
   "metadata": {},
   "outputs": [],
   "source": [
    "class Data:\n",
    "\n",
    "    def __init__(self, df: pd.DataFrame = pd.DataFrame()) -> None:\n",
    "        self.__data = df.copy()\n",
    "        ...\n",
    "    def sort(self, col_name_list: list, ascending_list: list):\n",
    "        ...\n",
    "    def search(self, filter_dict: dict):\n",
    "        ...\n",
    "    def download(self, path):\n",
    "        ...\n",
    "    def get(self):\n",
    "        ..."
   ]
  },
  {
   "cell_type": "markdown",
   "metadata": {},
   "source": [
    "The Data class is used to store a single data sheet. We use a pandas DataFrame called \"data\" to store the data sheet.\n",
    "\n",
    "- The \"sort\" function sorts data.\n",
    "- The \"search\" function searches data.\n",
    "- The \"download\" function saves data to local.\n",
    "- The \"get\" function returns the private member \"data\".\n",
    "\n",
    "#### UI Class"
   ]
  },
  {
   "cell_type": "code",
   "execution_count": null,
   "metadata": {},
   "outputs": [],
   "source": [
    "class UI:\n",
    "\n",
    "    def __init__(self, system) -> None: #system:System obj\n",
    "        self.system = system\n",
    "        ...\n",
    "    def search(self, vals2): \n",
    "        ...\n",
    "    def sort(self,vals2):\n",
    "        ...          \n",
    "    def display(self, num_row: int):\n",
    "        ...\n",
    "    def run(self):\n",
    "        ...\n",
    "    @staticmethod\n",
    "    def int_tuple_to_datetime(M, S):\n",
    "        ..."
   ]
  },
  {
   "cell_type": "markdown",
   "metadata": {},
   "source": [
    "The UI class is used to generate a GUI for user to use. We use PySimpleGUI to create this class.\n",
    "\n",
    "- The \"search\" function copes with the action when user presses \"search\" button.\n",
    "- The \"sort\" function copes with the action when user presses \"sort\" button.\n",
    "- The \"display\" function copes with the action when user presses \"display\" button.\n",
    "- The \"run\" function starts the process of UI.\n",
    "- The \"int_tuple_to_datetime\" function changes integers to datetime."
   ]
  },
  {
   "cell_type": "markdown",
   "metadata": {},
   "source": [
    "### 1.3 User Interface Structure"
   ]
  },
  {
   "cell_type": "markdown",
   "metadata": {},
   "source": [
    "<center><img src=\"report_pic/1.3 UI structure.png\" width=\"600\">"
   ]
  },
  {
   "cell_type": "markdown",
   "metadata": {},
   "source": [
    "## 2. Inquiry System Showcase"
   ]
  },
  {
   "cell_type": "markdown",
   "metadata": {},
   "source": [
    "We build up a powerful system enabling us to conduct a workflow of a standard database. There are four panels for this system: Sign in/ Sign up panel, Dashboard panel, analysis panel for user to search or sort and the display panel. We will provide some showcases in this part. \n"
   ]
  },
  {
   "cell_type": "markdown",
   "metadata": {},
   "source": [
    "### 2.1 Sign up and Log in\n",
    "At the Sign up/ Sign in panel, the user can first choose to sign up in this system which will store the user information in our cache files. Then, when the user choose to log in, the system will check the input name and password. If the inputs are matched, the user will enter the dashboard panel. "
   ]
  },
  {
   "cell_type": "markdown",
   "metadata": {},
   "source": [
    "- Sign up\n",
    "<center><img src=\"report_pic/login-1.png\" width=\"300\">"
   ]
  },
  {
   "cell_type": "markdown",
   "metadata": {},
   "source": [
    "- log in with invalid user name\n",
    "\n",
    "<center><img src=\"report_pic/login-2.png\" width=\"300\">"
   ]
  },
  {
   "cell_type": "markdown",
   "metadata": {},
   "source": [
    "- log in with incorrect password\n",
    "\n",
    "<center><img src=\"report_pic/login-3.png\" width=\"300\">"
   ]
  },
  {
   "cell_type": "markdown",
   "metadata": {},
   "source": [
    "- log in successfully, enter the dashboard page\n",
    "\n",
    "<center><img src=\"report_pic/login-4.png\" width=\"500\">"
   ]
  },
  {
   "cell_type": "markdown",
   "metadata": {},
   "source": [
    "### 2.2 Dashboard "
   ]
  },
  {
   "cell_type": "markdown",
   "metadata": {},
   "source": [
    "In the dashboard panel, the user has four selections as follows:\n",
    "\n",
    "- Add Sheet: add a new sheet to the database. Required input: the absolute path of the csv file, and a sheet name in the database\n",
    "- Delete Sheet: delete an existing sheet in the database\n",
    "- Access Sheet: choose an existing sheet to access\n",
    "- Log out: log out and return to the Sign up/ Log in panel"
   ]
  },
  {
   "cell_type": "markdown",
   "metadata": {},
   "source": [
    "#### 1). Add Sheet\n",
    "\n",
    "In this example, we can add a new sheet in the database and the file will be generated in the directory /lib/data after exit the system.  \n",
    "\n",
    "- to add a new sheet, the user need to input the abolute path of the csv file as the file path,  and the sheet name as the file \n",
    "\n",
    "<center><img src=\"report_pic/addsheet.png\" width=\"500\">"
   ]
  },
  {
   "cell_type": "markdown",
   "metadata": {},
   "source": [
    "- click the button Add Sheet, we will add the sheet into database\n",
    "\n",
    "<center><img src=\"report_pic/addsheet2.png\" width=\"500\">"
   ]
  },
  {
   "cell_type": "markdown",
   "metadata": {},
   "source": [
    "#### 2). Delete Sheet\n",
    "\n",
    "In this example, we can delete an existing sheet in the database. After deletion, the sheet will be removed and we can't access it now. \n",
    "\n",
    "- To delete a sheet, the user needs to pull down the combo and select one sheet to delete\n",
    "\n",
    "<center><img src=\"report_pic/deletesheet.png\" width=\"500\">"
   ]
  },
  {
   "cell_type": "markdown",
   "metadata": {},
   "source": [
    "Now we see nothing in the combo after deletion\n",
    "\n",
    "<center><img src=\"report_pic/deletesheet2.png\" width=\"500\">"
   ]
  },
  {
   "cell_type": "markdown",
   "metadata": {},
   "source": [
    "#### 3). Access Sheet\n",
    "\n",
    "In this case, we choose the taiwan traffic data sheet to access, which leads us to the Analysis panel.\n",
    "\n",
    "- To access a sheet, the user just pull down the combo and select the sheet he wants to access\n",
    "\n",
    "<center><img src=\"report_pic/accesssheet.png\" width=\"500\">"
   ]
  },
  {
   "cell_type": "markdown",
   "metadata": {},
   "source": [
    "- Click ok, we can enter the dashboard\n",
    "\n",
    "<center><img src=\"report_pic/dashboard.png\" width=\"800\">"
   ]
  },
  {
   "cell_type": "markdown",
   "metadata": {},
   "source": [
    "### 2.3 Analysis -Search & Sort"
   ]
  },
  {
   "cell_type": "markdown",
   "metadata": {},
   "source": [
    "In the analysis panel, we provide two methods for our users. \n",
    "\n",
    "- Search: The user can search rows in the sheet with specific conditions. To be specific, the user can first choose a column then set the conditions through checkbox or input provided in our system. \n",
    "\n",
    "- Sort: The user can sort the searched output with priority order. The system supports the users to sort the sheet with multiple columns and different ranking type(ascending/Descending)"
   ]
  },
  {
   "cell_type": "markdown",
   "metadata": {},
   "source": [
    "##### Example"
   ]
  },
  {
   "cell_type": "code",
   "execution_count": null,
   "metadata": {},
   "outputs": [],
   "source": []
  },
  {
   "cell_type": "markdown",
   "metadata": {},
   "source": [
    "- Search. In this example, we want to search rows satisfying VehicleType == 5 and TripEnd == Y. We choose the VehicleType by clicking the combo and the TripEnd by select from the listbox.\n",
    "\n",
    "\n",
    "<center><img src=\"report_pic/search.png\" width=\"400\">\n",
    "\n"
   ]
  },
  {
   "cell_type": "markdown",
   "metadata": {},
   "source": [
    "- Click the Search button\n",
    "\n",
    "<center><img src=\"report_pic/search2.png\" width=\"600\">"
   ]
  },
  {
   "cell_type": "markdown",
   "metadata": {},
   "source": [
    "Now we want to sort the selected frame by Derection_Time_O by Ascending order and Derection_Time_D by dscending order. In this case, we choose the column we want to \n",
    "sort by and select the rank type respectively. \n",
    "\n",
    "- choose sort condition\n",
    "\n",
    "<center><img src=\"report_pic/sort.png\" width=\"400\">"
   ]
  },
  {
   "cell_type": "markdown",
   "metadata": {},
   "source": [
    "- click the Button Sort\n",
    "\n",
    "\n",
    "<center><img src=\"report_pic/sort2.png\" width=\"600\">"
   ]
  },
  {
   "cell_type": "markdown",
   "metadata": {},
   "source": [
    "- Reset: Click the reset button to reset the pages\n",
    "\n",
    "<center><img src=\"report_pic/reset.png\" width=\"600\">\n"
   ]
  },
  {
   "cell_type": "markdown",
   "metadata": {},
   "source": [
    "- click Back Button to return to dashboard\n",
    "\n",
    "- click log out to return to the userpage\n",
    "\n",
    "- click exit\n"
   ]
  },
  {
   "cell_type": "markdown",
   "metadata": {},
   "source": [
    "### 2.4 Display\n",
    "\n",
    "For the display part, the user can choose the number of rows to show in the panel. "
   ]
  },
  {
   "cell_type": "markdown",
   "metadata": {},
   "source": [
    "- Modify the 'Number of entry to show' to set the number of rows we want to observe in the page\n",
    "\n",
    "<center><img src=\"report_pic/display.png\" width=\"600\">\n",
    "\n",
    "\n",
    "\n",
    "\n",
    "\n",
    "\n"
   ]
  },
  {
   "cell_type": "markdown",
   "metadata": {},
   "source": [
    "<center><img src=\"report_pic/display2.png\" width=\"600\">"
   ]
  },
  {
   "cell_type": "markdown",
   "metadata": {},
   "source": [
    "## Appendix\n",
    "### Github Link"
   ]
  },
  {
   "cell_type": "markdown",
   "metadata": {},
   "source": [
    "### Source Code"
   ]
  }
 ],
 "metadata": {
  "kernelspec": {
   "display_name": "Python 3.8.8 ('base')",
   "language": "python",
   "name": "python3"
  },
  "language_info": {
   "codemirror_mode": {
    "name": "ipython",
    "version": 3
   },
   "file_extension": ".py",
   "mimetype": "text/x-python",
   "name": "python",
   "nbconvert_exporter": "python",
   "pygments_lexer": "ipython3",
   "version": "3.8.8"
  },
  "varInspector": {
   "cols": {
    "lenName": 16,
    "lenType": 16,
    "lenVar": 40
   },
   "kernels_config": {
    "python": {
     "delete_cmd_postfix": "",
     "delete_cmd_prefix": "del ",
     "library": "var_list.py",
     "varRefreshCmd": "print(var_dic_list())"
    },
    "r": {
     "delete_cmd_postfix": ") ",
     "delete_cmd_prefix": "rm(",
     "library": "var_list.r",
     "varRefreshCmd": "cat(var_dic_list()) "
    }
   },
   "types_to_exclude": [
    "module",
    "function",
    "builtin_function_or_method",
    "instance",
    "_Feature"
   ],
   "window_display": false
  },
  "vscode": {
   "interpreter": {
    "hash": "f8b40d688a12481f01eadf7380c47edd8a49484a47dba3db091451640e880c68"
   }
  }
 },
 "nbformat": 4,
 "nbformat_minor": 2
}
